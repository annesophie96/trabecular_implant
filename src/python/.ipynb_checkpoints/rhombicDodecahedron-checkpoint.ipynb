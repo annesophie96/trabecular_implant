{
 "cells": [
  {
   "cell_type": "code",
   "execution_count": 1,
   "id": "f7fca186-268f-4eec-9875-85c2aded5789",
   "metadata": {},
   "outputs": [
    {
     "name": "stdout",
     "output_type": "stream",
     "text": [
      "Overwriting auto display for cadquery Workplane and Shape\n"
     ]
    },
    {
     "data": {
      "text/html": [
       "<style>\n",
       ".scroll-area {\n",
       "    overflow: scroll !important;\n",
       "    border: unset !important;\n",
       "}\n",
       "\n",
       ".mac-scrollbar::-webkit-scrollbar {\n",
       "    width: 5px !important;\n",
       "    height: 5px !important;\n",
       "}\n",
       "\n",
       ".mac-scrollbar::-webkit-scrollbar-track {\n",
       "    background-color: transparent !important;\n",
       "}\n",
       "\n",
       ".mac-scrollbar .widget-html-content {\n",
       "    overflow-x: visible;\n",
       "    overflow-y: visible;\n",
       "}\n",
       "\n",
       ".tab-content-no-padding .widget-tab-contents {\n",
       "    overflow-x: visible !important;\n",
       "    overflow-y: visible !important;\n",
       "    padding-bottom: 0px !important;\n",
       "}\n",
       "\n",
       ".view_renderer {\n",
       "    border: 1px solid var(--jp-border-color1);\n",
       "    margin-top: 3px;\n",
       "    margin-left: 2px;\n",
       "}\n",
       "\n",
       ".view_tree {\n",
       "    padding: 0px !important;\n",
       "}\n",
       "\n",
       ".view_axes {\n",
       "    width: 60px !important;\n",
       "    margin-left: 5px !important;\n",
       "}\n",
       "\n",
       ".view_zero {\n",
       "    width: 55px !important;\n",
       "}\n",
       "\n",
       ".view_grid {\n",
       "    width: 56px !important;\n",
       "}\n",
       "\n",
       ".view_ortho {\n",
       "    width: 64px !important;\n",
       "}\n",
       "\n",
       ".view_transparent {\n",
       "    width: 125px !important;\n",
       "}\n",
       "\n",
       ".view_black_edges {\n",
       "    width: 105px !important;\n",
       "}\n",
       "\n",
       ".view_button {\n",
       "    padding: 0px !important;\n",
       "}\n",
       "\n",
       ".view_button>img {\n",
       "    height: 28px;\n",
       "    width: 36px;\n",
       "}\n",
       "\n",
       ".node_entry_wrap {\n",
       "    white-space: pre;\n",
       "}\n",
       "\n",
       ".node_entry {\n",
       "    white-space: nowrap;\n",
       "    padding-top: 4px;\n",
       "}\n",
       "\n",
       ".t-caret {\n",
       "    cursor: pointer;\n",
       "    -webkit-user-select: none;\n",
       "    /* Safari 3.1+ */\n",
       "    -moz-user-select: none;\n",
       "    /* Firefox 2+ */\n",
       "    -ms-user-select: none;\n",
       "    /* IE 10+ */\n",
       "    user-select: none;\n",
       "}\n",
       "\n",
       ".t-caret-down::before {\n",
       "    -ms-transform: rotate(90deg);\n",
       "    /* IE 9 */\n",
       "    -webkit-transform: rotate(90deg);\n",
       "    /* Safari */\n",
       "    transform: rotate(90deg);\n",
       "}\n",
       "\n",
       ".toplevel {\n",
       "    list-style-type: none;\n",
       "    padding-inline-start: 0px;\n",
       "}\n",
       "\n",
       ".nested {\n",
       "    display: none;\n",
       "    list-style-type: none;\n",
       "    padding-inline-start: 16px;\n",
       "}\n",
       "\n",
       ".active {\n",
       "    display: block;\n",
       "}\n",
       "\n",
       ".icon {\n",
       "    width: 28px !important;\n",
       "    height: 22px !important;\n",
       "    padding-right: 2px;\n",
       "    vertical-align: middle;\n",
       "}\n",
       "\n",
       ".indent {\n",
       "    margin-left: 12px;\n",
       "}\n",
       "\n",
       ".tree_label {\n",
       "    padding-left: 2px;\n",
       "    font-size: 14px;\n",
       "}\n",
       "\n",
       ".scroll_down {\n",
       "    display: flex;\n",
       "    flex-direction: column-reverse;\n",
       "}\n",
       "\n",
       ".small_table {\n",
       "    line-height: 14px;\n",
       "}\n",
       "\n",
       ".monospace select {\n",
       "    font-family: monospace;\n",
       "}\n",
       "\n",
       "        .t-caret::before {\n",
       "            content: u\"▶\";\n",
       "            font-size: 12px;\n",
       "            color: #e0e0e0;\n",
       "            display: inline-block;\n",
       "            margin-right: 2px;\n",
       "        }\n",
       "\n",
       "        .mac-scrollbar::-webkit-scrollbar-thumb {\n",
       "            background-color: rgba(255, 255, 255, 0.3) !important;\n",
       "            border-radius: 100px !important;\n",
       "        }\n",
       "\n",
       "        .mac-scrollbar::-webkit-scrollbar-thumb:hover {\n",
       "            background: rgba(255, 255, 255, 0.5) !important;\n",
       "        }\n",
       "\n",
       "        .mac-scrollbar::-webkit-scrollbar-thumb:active {\n",
       "            background: #e0e0e0 !important;\n",
       "        }\n",
       "\n",
       "        .mac-scrollbar::-webkit-scrollbar-corner {\n",
       "            background: #212121;\n",
       "        }\n",
       "\n",
       "        .view_output {\n",
       "            border: 1px solid var(--jp-border-color1);\n",
       "            margin: 2px 2px 2px 2px !important;\n",
       "            padding-right: 1px !important;\n",
       "            background-color: #212121;\n",
       "        }\n",
       "    </style>"
      ],
      "text/plain": [
       "<IPython.core.display.HTML object>"
      ]
     },
     "metadata": {},
     "output_type": "display_data"
    }
   ],
   "source": [
    "import numpy as np\n",
    "from numpy import sqrt, pi\n",
    "import math\n",
    "\n",
    "import cadquery as cq\n",
    "from cadquery import exporters\n",
    "from jupyter_cadquery.cadquery import (PartGroup, Part, Edges, Faces, Vertices, show)\n",
    "from jupyter_cadquery import set_defaults, set_sidecar\n",
    "set_defaults(theme=\"dark\")\n",
    "set_sidecar(\"CadQuery\", init=True)\n",
    "\n",
    "from time import perf_counter\n",
    "\n",
    "import os\n",
    "from pathlib import Path\n",
    "cwd=os.getcwd()\n",
    "home = str(Path(os.path.abspath(cwd)).parents[1])"
   ]
  },
  {
   "cell_type": "code",
   "execution_count": 9,
   "id": "a82d45aa-06ec-4635-b1b1-4127b4e537bf",
   "metadata": {},
   "outputs": [
    {
     "name": "stdout",
     "output_type": "stream",
     "text": [
      "Done, using side car 'Cadquery'\n"
     ]
    },
    {
     "data": {
      "text/plain": [
       "<jupyter_cadquery.cad_display.CadqueryDisplay at 0x210cda7ca00>"
      ]
     },
     "execution_count": 9,
     "metadata": {},
     "output_type": "execute_result"
    }
   ],
   "source": [
    "#tic = perf_counter()\n",
    "a=1 #side length\n",
    "\n",
    "degree=90-math.atan(1/sqrt(2))*180/math.pi\n",
    "\n",
    "quadside=2*a/sqrt(3)\n",
    "L=sqrt(2/3)*a\n",
    "pts = [\n",
    "    (0,0),\n",
    "    (L,-L),\n",
    "    (0,-2*L),\n",
    "    (-L,-L)\n",
    "]\n",
    "\n",
    "workplane=cq.Workplane('XY').transformed(offset=cq.Vector(0, 0, -a),rotate=cq.Vector(-degree, 0, 0))\n",
    "base=workplane.polyline(pts).close().extrude(quadside)\n",
    "\n",
    "dx=quadside #in fact dy\n",
    "dz=quadside #in fact dx\n",
    "dy=a/sqrt(3) #in fact dz\n",
    "wedge1=workplane.transformed(offset=cq.Vector(0,-L,dy/2+quadside),rotate=cq.Vector(90,-45,0)).wedge(dx, dy, dz, dx/2, dz/2, dx/2, dz/2, pnt=cq.Vector(0.0, 0.0, 0.0), dir=cq.Vector(0.0, 0.0, 1.0))\n",
    "wedge2=workplane.workplane(invert=True).transformed(offset=cq.Vector(0,L,dy/2),rotate=cq.Vector(90,-45,0)).wedge(dx, dy, dz, dx/2, dz/2, dx/2, dz/2, pnt=cq.Vector(0.0, 0.0, 0.0), dir=cq.Vector(0.0, 0.0, 1.0))\n",
    "wedge3=workplane.transformed(rotate=cq.Vector(0,0,-45)).transformed(offset=cq.Vector(quadside/2,dy/2,quadside/2),rotate=cq.Vector(0,90,0)).wedge(dx, dy, dz, dx/2, dz/2, dx/2, dz/2, pnt=cq.Vector(0.0, 0.0, 0.0), dir=cq.Vector(0.0, 0.0, 1.0))\n",
    "wedge4=workplane.transformed(rotate=cq.Vector(0,0,-45)).transformed(offset=cq.Vector(quadside/2,-quadside-dy/2,quadside/2),rotate=cq.Vector(0,90,0)).workplane(invert=True).wedge(dx, dy, dz, dx/2, dz/2, dx/2, dz/2, pnt=cq.Vector(0.0, 0.0, 0.0), dir=cq.Vector(0.0, 0.0, 1.0))\n",
    "wedge5=workplane.transformed(rotate=cq.Vector(0,0,45)).transformed(offset=cq.Vector(-quadside/2,dy/2,quadside/2),rotate=cq.Vector(0,90,0)).wedge(dx, dy, dz, dx/2, dz/2, dx/2, dz/2, pnt=cq.Vector(0.0, 0.0, 0.0), dir=cq.Vector(0.0, 0.0, 1.0))\n",
    "wedge6=workplane.transformed(rotate=cq.Vector(0,0,45)).transformed(offset=cq.Vector(-quadside/2,dy/2-1.5*quadside,quadside/2),rotate=cq.Vector(0,90,0)).workplane(invert=True).wedge(dx, dy, dz, dx/2, dz/2, dx/2, dz/2, pnt=cq.Vector(0.0, 0.0, 0.0), dir=cq.Vector(0.0, 0.0, 1.0))\n",
    "#show(wedge1,wedge2,wedge3,wedge4,wedge5,wedge6)\n",
    "\n",
    "rhombicDodecahedron=(base.union(wedge1,glue=True,clean=True).union(wedge2,glue=True,clean=True).union(wedge3,glue=True,clean=True).union(wedge4,glue=True,clean=True).union(wedge5,glue=True,clean=True).union(wedge6,glue=True,clean=True))\n",
    "show(rhombicDodecahedron,grid=True,axes=True)\n",
    "#tac = perf_counter()\n",
    "#print(\"Elapsed time:\", '%.5f' % (tac-tic) , \"s\")"
   ]
  },
  {
   "cell_type": "code",
   "execution_count": 10,
   "id": "eb501b71-0f9d-4d37-bf40-120a4e61a015",
   "metadata": {},
   "outputs": [],
   "source": [
    "exporters.export(rhombicDodecahedron, home+'\\\\out\\\\step\\\\rhombicDodecahedron.step')"
   ]
  },
  {
   "cell_type": "code",
   "execution_count": 19,
   "id": "28dce332-b4e3-473c-b3b6-e7b94d91a5b1",
   "metadata": {},
   "outputs": [
    {
     "name": "stdout",
     "output_type": "stream",
     "text": [
      "Done, using side car 'Cadquery'\n"
     ]
    },
    {
     "data": {
      "text/plain": [
       "<jupyter_cadquery.cad_display.CadqueryDisplay at 0x210cda7ca00>"
      ]
     },
     "execution_count": 19,
     "metadata": {},
     "output_type": "execute_result"
    }
   ],
   "source": [
    "show(rhombicDodecahedron,rhombicDodecahedron.translate(cq.Vector(0,5,0)))"
   ]
  },
  {
   "cell_type": "code",
   "execution_count": null,
   "id": "c82503e8-4b91-4371-b8db-c80166534c73",
   "metadata": {},
   "outputs": [],
   "source": []
  }
 ],
 "metadata": {
  "kernelspec": {
   "display_name": "Python 3",
   "language": "python",
   "name": "python3"
  },
  "language_info": {
   "codemirror_mode": {
    "name": "ipython",
    "version": 3
   },
   "file_extension": ".py",
   "mimetype": "text/x-python",
   "name": "python",
   "nbconvert_exporter": "python",
   "pygments_lexer": "ipython3",
   "version": "3.8.10"
  }
 },
 "nbformat": 4,
 "nbformat_minor": 5
}
