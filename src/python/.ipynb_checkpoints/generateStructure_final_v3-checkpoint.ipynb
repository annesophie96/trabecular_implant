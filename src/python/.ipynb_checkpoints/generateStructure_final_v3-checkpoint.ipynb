{
 "cells": [
  {
   "cell_type": "code",
   "execution_count": null,
   "id": "355498a6-3d80-4b04-b37c-e2dacb030183",
   "metadata": {},
   "outputs": [],
   "source": [
    "import numpy as np\n",
    "from numpy import sqrt, pi\n",
    "import math\n",
    "import matplotlib.pyplot as plt\n",
    "\n",
    "import plotly.express as px\n",
    "import plotly.graph_objects as go\n",
    "\n",
    "import cadquery as cq\n",
    "from cadquery import exporters\n",
    "from jupyter_cadquery.cadquery import (PartGroup, Part, Edges, \n",
    "                                       Faces, Vertices, show)\n",
    "from jupyter_cadquery import set_defaults, set_sidecar\n",
    "set_defaults(theme=\"dark\")\n",
    "set_sidecar(\"CadQuery\", init=True)\n",
    "\n",
    "from tqdm import tqdm\n",
    "from time import perf_counter\n",
    "\n",
    "import os\n",
    "from pathlib import Path\n",
    "cwd=os.getcwd()\n",
    "home = str(Path(os.path.abspath(cwd)).parents[1])"
   ]
  },
  {
   "cell_type": "code",
   "execution_count": null,
   "id": "22369a93-41a5-45c0-b149-251a0495f24f",
   "metadata": {},
   "outputs": [],
   "source": [
    "# FUNCTIONS"
   ]
  },
  {
   "cell_type": "code",
   "execution_count": null,
   "id": "15b1b60a-e166-4c59-9bef-6b455783bd8d",
   "metadata": {},
   "outputs": [],
   "source": [
    "def hexGen(xVect,yVect):\n",
    "    for i in range(len(yVect)):\n",
    "        if i==0:\n",
    "            yNew=np.ones(len(xVect))*yVect[i]\n",
    "            xNew=xVect\n",
    "        else:\n",
    "            yNew=np.concatenate((yNew, np.ones(len(xVect))*yVect[i]),\n",
    "                                axis=None)\n",
    "            xNew=np.concatenate((xNew, xVect), axis=None)\n",
    "    return xNew, yNew"
   ]
  },
  {
   "cell_type": "code",
   "execution_count": null,
   "id": "49045bbc-3068-4662-99bb-74793b943ff1",
   "metadata": {},
   "outputs": [],
   "source": [
    "def hedronGen(quadside):\n",
    "\n",
    "    a=sqrt(3)*quadside/2 #edge length\n",
    "    L=quadside/2\n",
    "    pts = [\n",
    "        (L,L),\n",
    "        (-L,L),\n",
    "        (-L,-L),\n",
    "        (L,-L)\n",
    "    ]\n",
    "    workplane=cq.Workplane('XY').transformed(offset=cq.Vector(0, 0, -L))\n",
    "    base=workplane.polyline(pts).close().extrude(quadside)\n",
    "    \n",
    "    dx=quadside #in fact dy\n",
    "    dz=quadside #in fact dx\n",
    "    dy=quadside/2 #in fact dz\n",
    "    wedge1=workplane.transformed(offset=cq.Vector(0,0,dy/2+quadside),rotate=\n",
    "                                 cq.Vector(90,0,0)).wedge(dx, dy, dz, dx/2, \n",
    "                                 dz/2, dx/2, dz/2, pnt=cq.Vector(0.0, 0.0, \n",
    "                                 0.0), dir=cq.Vector(0.0, 0.0, 1.0))\n",
    "    wedge2=workplane.workplane(invert=True).transformed(offset=cq.Vector(0,0,\n",
    "                               dy/2),rotate=cq.Vector(90,0,0)).wedge(dx, dy, \n",
    "                               dz, dx/2, dz/2, dx/2, dz/2, pnt=cq.Vector(0.0, \n",
    "                               0.0, 0.0), dir=cq.Vector(0.0, 0.0, 1.0))\n",
    "    wedge3=workplane.transformed(offset=cq.Vector(0,3*dy/2,quadside/2),\n",
    "                                 rotate=cq.Vector(0,90,0)).wedge(dx, dy, dz, \n",
    "                                 dx/2, dz/2, dx/2, dz/2, pnt=cq.Vector(0.0, \n",
    "                                 0.0, 0.0), dir=cq.Vector(0.0, 0.0, 1.0))\n",
    "    wedge4=workplane.transformed(offset=cq.Vector(0,-quadside/2-dy/2,quadside\n",
    "                                 /2),rotate=cq.Vector(0,90,0)).workplane(\n",
    "                                 invert=True).wedge(dx, dy, dz, dx/2, dz/2, \n",
    "                                 dx/2, dz/2, pnt=cq.Vector(0.0, 0.0, 0.0), \n",
    "                                 dir=cq.Vector(0.0, 0.0, 1.0))\n",
    "    wedge5=workplane.transformed(rotate=cq.Vector(0,0,90)).transformed(\n",
    "                                 offset=cq.Vector(0,quadside/2+dy/2,\n",
    "                                 quadside/2),rotate=cq.Vector(0,90,0)).wedge(\n",
    "                                 dx, dy, dz, dx/2, dz/2, dx/2, dz/2, pnt=\n",
    "                                 cq.Vector(0.0, 0.0, 0.0), dir=cq.Vector(\n",
    "                                 0.0, 0.0, 1.0))\n",
    "    wedge6=workplane.transformed(rotate=cq.Vector(0,0,90)).transformed(\n",
    "                                 offset=cq.Vector(0,dy/2-quadside,\n",
    "                                 quadside/2),rotate=cq.Vector(0,90,\n",
    "                                 0)).workplane(invert=True).wedge(dx, dy, dz,\n",
    "                                 dx/2, dz/2, dx/2, dz/2, pnt=cq.Vector(0.0, \n",
    "                                 0.0, 0.0), dir=cq.Vector(0.0, 0.0, 1.0))\n",
    "    \n",
    "    rhombicDodecahedron=(base.union(wedge1,glue=True,clean=True).union(\n",
    "                         wedge2,glue=True,clean=True).union(wedge3,glue=True,\n",
    "                         clean=True).union(wedge4,glue=True,clean=True\n",
    "                         ).union(wedge5,glue=True,clean=True).union(wedge6,\n",
    "                         glue=True, clean=True))\n",
    "    #rhombicDodecahedron=rhombicDodecahedron.translate(cq.Vector(X,Y,Z))\n",
    "    \n",
    "    return rhombicDodecahedron"
   ]
  },
  {
   "cell_type": "code",
   "execution_count": null,
   "id": "c3759858-628c-4caf-9447-a0a5748708ea",
   "metadata": {},
   "outputs": [],
   "source": [
    "def abcGen(L,T,a1,X1,X2,Y1,Y2,Z1,Z2,A1,A2):\n",
    "    sD=cq.Workplane('XY').transformed(offset=cq.Vector(0, 0, Z1[0])).rect(\n",
    "        L,T,centered=True,forConstruction=False).extrude(a1)\n",
    "    \n",
    "    # the box is ready\n",
    "    hedra=[]\n",
    "    \n",
    "    for i in tqdm(range(X1.size)):\n",
    "        hedra.append(hedronGen(A1[i]).translate(cq.Vector(X1[i],Y1[i],\n",
    "                                                          Z1[i])))\n",
    "\n",
    "    for i in tqdm(range(X2.size)):\n",
    "        hedra.append(hedronGen(A2[i]).translate(cq.Vector(X2[i],Y2[i],\n",
    "                                                          Z2[i])))\n",
    "    \n",
    "    for i in tqdm(range(len(hedra))):\n",
    "        sD=sD.cut(hedra[i],clean=True)\n",
    "\n",
    "    return sD"
   ]
  },
  {
   "cell_type": "code",
   "execution_count": null,
   "id": "19f36d42-659b-46f3-9a3c-88b36417381d",
   "metadata": {},
   "outputs": [],
   "source": [
    "def densify(R,VF,d):\n",
    "    volFrac=np.ones(len(R))\n",
    "    for i in range(len(R)):\n",
    "        if R[i]<=(d/2):\n",
    "            volFrac[i]=1\n",
    "        else:\n",
    "            volFrac[i]=np.exp(-0.4*(R[i]-d/2)+np.log(1-VF))+VF\n",
    "    return volFrac"
   ]
  },
  {
   "cell_type": "code",
   "execution_count": null,
   "id": "cf019fa1-672b-495b-8c29-7214bcbe68dc",
   "metadata": {},
   "outputs": [],
   "source": [
    "def calcSideLen(volFrac,a1):\n",
    "    A=np.zeros(len(volFrac))\n",
    "    for i in range(len(volFrac)):\n",
    "        A[i]=a1*((1-volFrac[i])**(1./3.))\n",
    "    return A"
   ]
  },
  {
   "cell_type": "code",
   "execution_count": null,
   "id": "f8d2cbbb-0908-4514-ae6b-b020c91c776b",
   "metadata": {},
   "outputs": [],
   "source": [
    "def calcDist(X,Y):\n",
    "    R=np.zeros(len(X))\n",
    "    for i in range(len(R)):\n",
    "        R[i]=sqrt(X[i]*X[i]+Y[i]*Y[i])\n",
    "    return R"
   ]
  },
  {
   "cell_type": "code",
   "execution_count": null,
   "id": "abbe1ab2-43d2-4c8f-8259-38c1ae9bfefb",
   "metadata": {},
   "outputs": [],
   "source": [
    "def remPts(X,Y,Z,R,vF,A,d):\n",
    "    rem_ind=[]\n",
    "    for i in range(len(R)):\n",
    "        if (R[i]-A[i])<(d/2) or A[i]<=0.01:\n",
    "            rem_ind.append(i)\n",
    "    rem_ind.reverse()\n",
    "    for i in range(len(rem_ind)):\n",
    "        X=np.delete(X,rem_ind[i])\n",
    "        Y=np.delete(Y,rem_ind[i])\n",
    "        Z=np.delete(Z,rem_ind[i])\n",
    "        R=np.delete(R,rem_ind[i])\n",
    "        vF=np.delete(vF,rem_ind[i])\n",
    "        A=np.delete(A,rem_ind[i])\n",
    "    return X, Y, Z, R, vF, A"
   ]
  },
  {
   "cell_type": "code",
   "execution_count": null,
   "id": "20c2afe3-0f38-4698-9782-eff43228bf10",
   "metadata": {},
   "outputs": [],
   "source": [
    "def speak(text):\n",
    "    from IPython.display import Javascript as js, clear_output\n",
    "    # Escape single quotes\n",
    "    text = text.replace(\"'\", r\"\\'\")\n",
    "    display(js(f'''\n",
    "    if(window.speechSynthesis) {{\n",
    "        var synth = window.speechSynthesis;\n",
    "        synth.speak(new window.SpeechSynthesisUtterance('{text}'));\n",
    "    }}\n",
    "    '''))\n",
    "    # Clear the JS so that the notebook doesn't speak again when reopened\n",
    "    clear_output(False)"
   ]
  },
  {
   "cell_type": "code",
   "execution_count": null,
   "id": "84e7e995-5404-44e3-a1ff-bcfb68f87f32",
   "metadata": {},
   "outputs": [],
   "source": [
    "# DATA\n",
    "\n",
    "VF=0.27         #Volume Fraction\n",
    "minCellSize=0.5 #[mm] Minimum Cell Size\n",
    "maxCellSize=1.0 #[mm] Maximum Cell Size\n",
    "L=10            #[mm] Min Length (x) of Sample\n",
    "T=10            #[mm] Min Width (y) of Sample\n",
    "U=12            #[mm] Min Height (z) of Sample\n",
    "holeDiam=2.7    #[mm] Diameter of Drilled Hole\n",
    "dImpl=3.8       #[mm] Greatest Outer Diameter of the Implant\n",
    "\n",
    "isotropicTestBodyGen=0 #1 for isotropic test body, 0 for regular run\n",
    "numberOfLayers=5       #control test body size, no need to change\n",
    "\n",
    "#based on Min and Max Cell Size, sphere equivalent\n",
    "a0=((minCellSize+maxCellSize)/4)*((2*math.pi/3)**(1./3.))\n",
    "a1=a0/((1-VF)**(1./3.))\n",
    "\n",
    "if isotropicTestBodyGen: #turn on for isotropic test body generation\n",
    "\n",
    "    L=numberOfLayers*2*a1\n",
    "    T=L\n",
    "    U=L\n",
    "else:\n",
    "    L=math.ceil(L/(2*a1))*2*a1\n",
    "    T=math.ceil(T/(2*a1))*2*a1\n",
    "    U=math.ceil(U/(2*a1))*2*a1\n",
    "\n",
    "if isotropicTestBodyGen:\n",
    "    fileNameSpecifyer=(\"_VF\"+str(VF)+\"_CS\"+\"{:.1f}\".format(minCellSize)+\"-\"\n",
    "    +\"{:.1f}\".format(maxCellSize)+\"_NoL\"+str(numberOfLayers)+\"_LTU\"\n",
    "    +\"{:.5f}\".format(L)+\"_ISO\")\n",
    "else:\n",
    "    fileNameSpecifyer=(\"_VF\"+str(VF)+\"_CS\"+\"{:.1f}\".format(minCellSize)+\"-\"\n",
    "    +\"{:.1f}\".format(maxCellSize)+\"_L\"+\"{:.4f}\".format(L)+\"_T\"\n",
    "    +\"{:.4f}\".format(T)+\"_U\"+\"{:.4f}\".format(U))\n",
    "\n",
    "print(fileNameSpecifyer)\n",
    "\n",
    "D=2*a1 #Distance between Centres on the x axis\n",
    "H=a1 #Distance between Centres on the y axis\n",
    "\n",
    "\n",
    "Nxa=math.ceil(L/D+1)\n",
    "if Nxa%2 != 1: #if not odd\n",
    "    Nxb=Nxa+2 #then with +2 it is good for b-row\n",
    "    Nxa=Nxa+1 #and has to be incremented for a-row\n",
    "else: #if odd\n",
    "    Nxb=Nxa+1 #then a is good, b must be incremented\n",
    "    \n",
    "Ny=math.ceil(T/H+1)\n",
    "if Ny%2 != 1: #if not odd\n",
    "    Ny=Ny+1 #then increment it\n",
    "if ((Ny-1)/2)%2 != 1: #if not odd\n",
    "    Nya=int((Ny+1)/2)\n",
    "    Nyb=int(Nya+1)\n",
    "else:\n",
    "    Nyb=int((Ny+1)/2)\n",
    "    Nya=int(Nyb+1)\n",
    "Ny=Nya+Nyb\n",
    "print(\"a0 = \",a0,\"\\nL = \",L,\"\\nT = \",T,\"\\nU = \",U,\"\\nD = \", D, \n",
    "      \"\\nH = \", H, \"\\nNx:\\n\\tNxa = \", Nxa, \"\\n\\tNxb = \", Nxb, \"\\nNy = \", Ny,\n",
    "      \"\\n\\tNya = \", Nya, \"\\n\\tNyb = \", Nyb)"
   ]
  },
  {
   "cell_type": "code",
   "execution_count": null,
   "id": "a6548fec-255d-4eb7-9cb2-bf1a8a7de37d",
   "metadata": {},
   "outputs": [],
   "source": [
    "# LAYER 'A'\n",
    "\n",
    "aX=np.linspace(-((Nxa-1)*D)/2, ((Nxa-1)*D)/2, num=Nxa)\n",
    "bX=np.linspace(-((Nxa-1)*D)/2-(D/2), ((Nxa-1)*D)/2+(D/2), num=Nxb)\n",
    "\n",
    "if Nya>Nyb:\n",
    "    aY=np.linspace(-((Nya+Nyb-1)*H)/2, ((Nya+Nyb-1)*H)/2, num=Nya)\n",
    "    bY=np.linspace(-((Nya+Nyb-1)*H)/2+H, ((Nya+Nyb-1)*H)/2-H, num=Nyb)\n",
    "else:\n",
    "    bY=np.linspace(-((Nya+Nyb-1)*H)/2, ((Nya+Nyb-1)*H)/2, num=Nyb)\n",
    "    aY=np.linspace(-((Nya+Nyb-1)*H)/2+H, ((Nya+Nyb-1)*H)/2-H, num=Nya)\n",
    "\n",
    "aX0=aX\n",
    "aY0=aY\n",
    "bX0=bX\n",
    "bY0=bY\n",
    "AaX, AaY = hexGen(aX0,aY0)\n",
    "AbX, AbY = hexGen(bX0,bY0)\n",
    "\n",
    "#%matplotlib widget\n",
    "#plt.plot(AaX,AaY,'b.')\n",
    "#plt.plot(AbX,AbY,'r.')\n",
    "#plt.axis('equal')\n",
    "#plt.show()"
   ]
  },
  {
   "cell_type": "code",
   "execution_count": null,
   "id": "da8b74a6-46c4-4dfa-b187-f5454771bc61",
   "metadata": {},
   "outputs": [],
   "source": [
    "# LAYER 'B'\n",
    "\n",
    "BaX=AaX\n",
    "BaY=AaY-a1\n",
    "BbX=AbX\n",
    "BbY=AbY-a1\n",
    "\n",
    "if Nya>Nyb: #'a' row is on the outside\n",
    "    BbX=np.concatenate((BbX, bX0), axis=None)\n",
    "    BbY=np.concatenate((BbY, np.ones(len(bX0))*(BaY[-1]+H)), axis=None)\n",
    "        \n",
    "else: #'b' row is on the outside\n",
    "    BaX=np.concatenate((BaX, aX0), axis=None)\n",
    "    BaY=np.concatenate((BaY, np.ones(len(aX0))*(BbY[-1]+H)), axis=None)\n",
    "\n",
    "#%matplotlib widget\n",
    "#plt.plot(AaX,AaY,'b.')\n",
    "#plt.plot(AbX,AbY,'r.')\n",
    "#plt.plot(BaX,BaY,'g.')\n",
    "#plt.plot(BbX,BbY,'y.')\n",
    "#plt.axis('equal')\n",
    "#plt.show()"
   ]
  },
  {
   "cell_type": "code",
   "execution_count": null,
   "id": "e5b320f6-5f90-40b8-a912-473b3f082c4c",
   "metadata": {},
   "outputs": [],
   "source": [
    "AX=np.concatenate((AaX, AbX), axis=None)\n",
    "AY=np.concatenate((AaY, AbY), axis=None)\n",
    "BX=np.concatenate((BaX, BbX), axis=None)\n",
    "BY=np.concatenate((BaY, BbY), axis=None)\n",
    "\n",
    "#%matplotlib widget\n",
    "#plt.plot(AX,AY,'g.')\n",
    "#plt.plot(BX,BY,'b.')\n",
    "#plt.axis('equal')\n",
    "#plt.show()"
   ]
  },
  {
   "cell_type": "code",
   "execution_count": null,
   "id": "85103611-fecd-405e-b235-2581594de7ce",
   "metadata": {},
   "outputs": [],
   "source": [
    "AZ=np.zeros((len(AX)))\n",
    "BZ=np.ones((len(BX)))*a1\n",
    "\n",
    "X=np.concatenate((AX,BX), axis=None)\n",
    "Y=np.concatenate((AY,BY), axis=None)\n",
    "\n",
    "R=calcDist(X,Y)\n",
    "\n",
    "if not isotropicTestBodyGen:\n",
    "    zeroIndex=np.where(R==0)[0][0]\n",
    "    X=np.delete(X,zeroIndex,None)\n",
    "    Y=np.delete(Y,zeroIndex,None)\n",
    "    R=np.delete(R,zeroIndex,None)"
   ]
  },
  {
   "cell_type": "code",
   "execution_count": null,
   "id": "24fe5f20-99d6-47fa-a81e-a57007a8efbc",
   "metadata": {},
   "outputs": [],
   "source": [
    "if not isotropicTestBodyGen:\n",
    "    volFrac=densify(R,VF,dImpl)\n",
    "else:\n",
    "    volFrac=np.ones(len(R))*VF #turn on for isotropic test body generation\n",
    "\n",
    "A=calcSideLen(volFrac,a1)"
   ]
  },
  {
   "cell_type": "code",
   "execution_count": null,
   "id": "40929a77-3511-43e4-939f-fcaecfa216d1",
   "metadata": {},
   "outputs": [],
   "source": [
    "fig = px.scatter(x=X, y=Y, color=volFrac, labels={\"color\":\"Volume Fraction\"},\n",
    "                 title=\"Volume Fraction\",width=700,height=700,\n",
    "                 color_continuous_scale='Plasma')\n",
    "fig.show()\n",
    "#fig.write_html(home+\"\\\\img\\\\python\\\\generateStructure_final_fig_03.html\")\n",
    "#fig.write_image(home+\"\\\\img\\\\python\\\\generateStructure_final_fig_03.svg\")"
   ]
  },
  {
   "cell_type": "code",
   "execution_count": null,
   "id": "bc9c5969-98d0-42ab-babd-5b4c1ec263c8",
   "metadata": {},
   "outputs": [],
   "source": [
    "fig = px.scatter(x=X, y=Y, color=A, labels={\"color\":\"Side Length [mm]\"},\n",
    "                 title=\"Side Length\",width=700,height=700)\n",
    "fig.show()\n",
    "#fig.write_html(home+\"\\\\img\\\\python\\\\generateStructure_final_fig_04.html\")\n",
    "#fig.write_image(home+\"\\\\img\\\\python\\\\generateStructure_final_fig_04.svg\")"
   ]
  },
  {
   "cell_type": "code",
   "execution_count": null,
   "id": "202b9b73-44a6-4e66-936a-77aa180fea34",
   "metadata": {},
   "outputs": [],
   "source": [
    "RA=calcDist(AX,AY)\n",
    "RB=calcDist(BX,BY)\n",
    "\n",
    "if not isotropicTestBodyGen:\n",
    "    zeroIndex=np.where(RA==0)[0][0]\n",
    "    AX=np.delete(AX,zeroIndex,None)\n",
    "    AY=np.delete(AY,zeroIndex,None)\n",
    "    AZ=np.delete(AZ,zeroIndex,None)\n",
    "    RA=np.delete(RA,zeroIndex,None)\n",
    "\n",
    "    volFracA=densify(RA,VF,dImpl)\n",
    "    volFracB=densify(RB,VF,dImpl)\n",
    "\n",
    "    AA=calcSideLen(volFracA,a1)\n",
    "    AB=calcSideLen(volFracB,a1)\n",
    "\n",
    "    AX, AY, AZ, RA, volFracA, AA = remPts(AX, AY, AZ, RA, \n",
    "                                          volFracA, AA, dImpl)\n",
    "    BX, BY, BZ, RB, volFracB, AB = remPts(BX, BY, BZ, RB, \n",
    "                                          volFracB, AB, dImpl)\n",
    "    \n",
    "else:\n",
    "    volFracA=np.ones(len(RA))*VF\n",
    "    volFracB=np.ones(len(RB))*VF\n",
    "    \n",
    "    AA=calcSideLen(volFracA,a1)\n",
    "    AB=calcSideLen(volFracB,a1)\n",
    "    \n",
    "    \n",
    "# AZ-> AZ1, AZ2\n",
    "AZ1=AZ\n",
    "AZ2=AZ+2*a1"
   ]
  },
  {
   "cell_type": "code",
   "execution_count": null,
   "id": "4231fb00-ef03-40bf-94ca-d38ff1077932",
   "metadata": {},
   "outputs": [],
   "source": [
    "print(len(AX),len(BX))"
   ]
  },
  {
   "cell_type": "code",
   "execution_count": null,
   "id": "321d8bd6-eb2d-4c4a-8985-902b0931541c",
   "metadata": {},
   "outputs": [],
   "source": [
    "sDA=abcGen(L,T,a1,AX,BX,AY,BY,AZ1,BZ,AA,AB)\n",
    "show(sDA, grid=True)"
   ]
  },
  {
   "cell_type": "code",
   "execution_count": null,
   "id": "b406218a-e9cc-449c-9d9d-e12425e2bb0c",
   "metadata": {},
   "outputs": [],
   "source": [
    "if not isotropicTestBodyGen:\n",
    "    tic = perf_counter()\n",
    "    exporters.export(sDA, home+'\\\\out\\\\step\\\\BAM_A'+fileNameSpecifyer\n",
    "                     +'.step')\n",
    "    tac = perf_counter()\n",
    "    print(\"Elapsed time:\", '%.5f' % (tac-tic) , \"s\")"
   ]
  },
  {
   "cell_type": "code",
   "execution_count": null,
   "id": "55db70cb-0d31-4b60-968a-5a20911f435d",
   "metadata": {},
   "outputs": [],
   "source": [
    "sDB=abcGen(L,T,a1,BX,AX,BY,AY,BZ,AZ2,AB,AA)\n",
    "show(sDB, grid=True)"
   ]
  },
  {
   "cell_type": "code",
   "execution_count": null,
   "id": "4be0d400-d628-437b-ad91-12ceb21e9cb2",
   "metadata": {},
   "outputs": [],
   "source": [
    "if not isotropicTestBodyGen:\n",
    "    tic = perf_counter()\n",
    "    exporters.export(sDB, home+'\\\\out\\\\step\\\\BAM_B'+fileNameSpecifyer\n",
    "                     +'.step')\n",
    "    tac = perf_counter()\n",
    "    print(\"Elapsed time:\", '%.5f' % (tac-tic) , \"s\")"
   ]
  },
  {
   "cell_type": "code",
   "execution_count": null,
   "id": "7f9108fa-e85a-4d80-99e6-d8903c55061c",
   "metadata": {},
   "outputs": [],
   "source": [
    "tic = perf_counter()\n",
    "sDAB=sDA.union(sDB,glue=True)\n",
    "show(sDAB,grid=True)\n",
    "tac = perf_counter()\n",
    "print(\"Elapsed time:\", '%.5f' % (tac-tic) , \"s\")"
   ]
  },
  {
   "cell_type": "code",
   "execution_count": null,
   "id": "c5c16d6b-100a-46af-a52f-75d80bf3fe9f",
   "metadata": {},
   "outputs": [],
   "source": [
    "if not isotropicTestBodyGen:\n",
    "    tic = perf_counter()\n",
    "    exporters.export(sDAB, home+'\\\\out\\\\step\\\\BAM_AB'+fileNameSpecifyer\n",
    "                     +'.step')\n",
    "    tac = perf_counter()\n",
    "    print(\"Elapsed time:\", '%.5f' % (tac-tic) , \"s\")"
   ]
  },
  {
   "cell_type": "code",
   "execution_count": null,
   "id": "8df43acb-92ea-472e-94bc-2ebcdae8b82c",
   "metadata": {},
   "outputs": [],
   "source": [
    "Zsteps=math.ceil(math.log((U/(a1)), 2))\n",
    "Zmax=pow(2,Zsteps-1)*2*a1\n",
    "diffZ=Zmax-U"
   ]
  },
  {
   "cell_type": "code",
   "execution_count": null,
   "id": "b53c4c6e-53f0-4c64-a48f-b3ea5f3fd015",
   "metadata": {},
   "outputs": [],
   "source": [
    "tic = perf_counter()\n",
    "for i in tqdm(range(Zsteps)):\n",
    "    if i==0:\n",
    "        sDGlued=sDAB\n",
    "    else:\n",
    "        sDGlued=sDGlued.union(sDGlued.translate(cq.Vector(0,0,pow(2,i-1)\n",
    "                                                          *2*a1)),glue=True)\n",
    "show(sDGlued,grid=True)\n",
    "tac = perf_counter()\n",
    "speak(\"Glued all layers.\")\n",
    "print(\"Elapsed time:\", '%.5f' % (tac-tic) , \"s\")"
   ]
  },
  {
   "cell_type": "code",
   "execution_count": null,
   "id": "a17a7a46-663e-4d52-9ea1-1437f57d4bb5",
   "metadata": {},
   "outputs": [],
   "source": [
    "if not isotropicTestBodyGen:\n",
    "    tic = perf_counter()\n",
    "    exporters.export(sDGlued, home+'\\\\out\\\\step\\\\BAM_sDGlued'\n",
    "                     +fileNameSpecifyer+'.step')\n",
    "    tac = perf_counter()\n",
    "    print(\"Elapsed time:\", '%.5f' % (tac-tic) , \"s\")"
   ]
  },
  {
   "cell_type": "code",
   "execution_count": null,
   "id": "549aa12c-46b9-4db4-9d95-278ea4e00370",
   "metadata": {},
   "outputs": [],
   "source": [
    "tic = perf_counter()\n",
    "slicer=cq.Workplane('XY').transformed(offset=cq.Vector(0,0,U)).rect(L+1,T+1,\n",
    "                                      centered=True,forConstruction=\n",
    "                                      False).extrude(diffZ+1)\n",
    "sDFinal=sDGlued.cut(slicer,clean=True)\n",
    "show(sDFinal)\n",
    "tac = perf_counter()\n",
    "speak(\"Cut model to size.\")\n",
    "print(\"Elapsed time:\", '%.5f' % (tac-tic) , \"s\")"
   ]
  },
  {
   "cell_type": "code",
   "execution_count": null,
   "id": "890e6ed2-f606-4e0a-8d59-830914839f9c",
   "metadata": {},
   "outputs": [],
   "source": [
    "tic = perf_counter()\n",
    "exporters.export(sDFinal, home+'\\\\out\\\\step\\\\BAM_sDFinal'+fileNameSpecifyer\n",
    "                 +'.step')\n",
    "tac = perf_counter()\n",
    "print(\"Elapsed time:\", '%.5f' % (tac-tic) , \"s\")"
   ]
  },
  {
   "cell_type": "code",
   "execution_count": null,
   "id": "1fa1d92a-b897-4098-8cc7-9a3cb7db0621",
   "metadata": {},
   "outputs": [],
   "source": [
    "if not isotropicTestBodyGen:    \n",
    "    tic = perf_counter()\n",
    "    hole=cq.Workplane('XY').circle(holeDiam/2).extrude(U)\n",
    "    sDFinal=sDFinal.cut(hole,clean=True)\n",
    "    show(sDFinal)\n",
    "    tac = perf_counter()\n",
    "    speak(\"Drilled the hole.\")\n",
    "    print(\"Elapsed time:\", '%.5f' % (tac-tic) , \"s\")"
   ]
  },
  {
   "cell_type": "code",
   "execution_count": null,
   "id": "99ca7ad9-c625-4c55-9914-8c0e4da1f851",
   "metadata": {},
   "outputs": [],
   "source": [
    "if not isotropicTestBodyGen:\n",
    "    tic = perf_counter()\n",
    "    exporters.export(sDFinal, home+'\\\\out\\\\step\\\\BAM_sDFinal'+fileNameSpecifyer\n",
    "                     +'.step')\n",
    "    tac = perf_counter()\n",
    "    print(\"Elapsed time:\", '%.5f' % (tac-tic) , \"s\")"
   ]
  },
  {
   "cell_type": "code",
   "execution_count": null,
   "id": "95b0b98c-3367-432c-8995-ac54c62cefb5",
   "metadata": {},
   "outputs": [],
   "source": [
    "speak(\"All done.\")"
   ]
  },
  {
   "cell_type": "code",
   "execution_count": null,
   "id": "a7c9a166-ec0f-4397-9484-454fdbb4b17e",
   "metadata": {},
   "outputs": [],
   "source": []
  }
 ],
 "metadata": {
  "kernelspec": {
   "display_name": "Python 3",
   "language": "python",
   "name": "python3"
  },
  "language_info": {
   "codemirror_mode": {
    "name": "ipython",
    "version": 3
   },
   "file_extension": ".py",
   "mimetype": "text/x-python",
   "name": "python",
   "nbconvert_exporter": "python",
   "pygments_lexer": "ipython3",
   "version": "3.8.10"
  }
 },
 "nbformat": 4,
 "nbformat_minor": 5
}
